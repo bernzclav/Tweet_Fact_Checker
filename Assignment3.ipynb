{
 "cells": [
  {
   "cell_type": "markdown",
   "metadata": {},
   "source": [
    "# COMP 472 - Assignment 3\n",
    "\n",
    "### Bernard Claveau - 40065756 / Nicolas Eliopoulos - 40059378\n",
    "\n",
    "<hr>"
   ]
  },
  {
   "cell_type": "markdown",
   "metadata": {},
   "source": [
    "### Imports"
   ]
  },
  {
   "cell_type": "code",
   "execution_count": 73,
   "metadata": {},
   "outputs": [
    {
     "data": {
      "text/html": [
       "<div>\n",
       "<style scoped>\n",
       "    .dataframe tbody tr th:only-of-type {\n",
       "        vertical-align: middle;\n",
       "    }\n",
       "\n",
       "    .dataframe tbody tr th {\n",
       "        vertical-align: top;\n",
       "    }\n",
       "\n",
       "    .dataframe thead th {\n",
       "        text-align: right;\n",
       "    }\n",
       "</style>\n",
       "<table border=\"1\" class=\"dataframe\">\n",
       "  <thead>\n",
       "    <tr style=\"text-align: right;\">\n",
       "      <th></th>\n",
       "      <th>tweet_id</th>\n",
       "      <th>text</th>\n",
       "      <th>q1_label</th>\n",
       "      <th>q2_label</th>\n",
       "      <th>q3_label</th>\n",
       "      <th>q4_label</th>\n",
       "      <th>q5_label</th>\n",
       "      <th>q6_label</th>\n",
       "      <th>q7_label</th>\n",
       "    </tr>\n",
       "  </thead>\n",
       "  <tbody>\n",
       "    <tr>\n",
       "      <th>0</th>\n",
       "      <td>1241025578527903750</td>\n",
       "      <td>For the average American the best way to tell ...</td>\n",
       "      <td>no</td>\n",
       "      <td>NaN</td>\n",
       "      <td>NaN</td>\n",
       "      <td>NaN</td>\n",
       "      <td>NaN</td>\n",
       "      <td>no_joke_or_sarcasm</td>\n",
       "      <td>no_not_interesting</td>\n",
       "    </tr>\n",
       "    <tr>\n",
       "      <th>1</th>\n",
       "      <td>1240467080954228737</td>\n",
       "      <td>this is fucking bullshit</td>\n",
       "      <td>no</td>\n",
       "      <td>NaN</td>\n",
       "      <td>NaN</td>\n",
       "      <td>NaN</td>\n",
       "      <td>NaN</td>\n",
       "      <td>no_not_harmful</td>\n",
       "      <td>no_not_interesting</td>\n",
       "    </tr>\n",
       "    <tr>\n",
       "      <th>2</th>\n",
       "      <td>1240716889162018816</td>\n",
       "      <td>Can y’all please just follow the government’s ...</td>\n",
       "      <td>no</td>\n",
       "      <td>NaN</td>\n",
       "      <td>NaN</td>\n",
       "      <td>NaN</td>\n",
       "      <td>NaN</td>\n",
       "      <td>no_not_harmful</td>\n",
       "      <td>no_not_interesting</td>\n",
       "    </tr>\n",
       "    <tr>\n",
       "      <th>3</th>\n",
       "      <td>1241062514886090754</td>\n",
       "      <td>No offense but the corona virus disappearing b...</td>\n",
       "      <td>no</td>\n",
       "      <td>NaN</td>\n",
       "      <td>NaN</td>\n",
       "      <td>NaN</td>\n",
       "      <td>NaN</td>\n",
       "      <td>no_not_harmful</td>\n",
       "      <td>no_not_interesting</td>\n",
       "    </tr>\n",
       "    <tr>\n",
       "      <th>4</th>\n",
       "      <td>1241447017945223169</td>\n",
       "      <td>This is the face of someone who just spent 9 h...</td>\n",
       "      <td>yes</td>\n",
       "      <td>2_no_probably_contains_no_false_info</td>\n",
       "      <td>4_yes_probably_of_interest</td>\n",
       "      <td>1_no_definitely_not_harmful</td>\n",
       "      <td>yes_not_urgent</td>\n",
       "      <td>no_not_harmful</td>\n",
       "      <td>no_not_interesting</td>\n",
       "    </tr>\n",
       "  </tbody>\n",
       "</table>\n",
       "</div>"
      ],
      "text/plain": [
       "              tweet_id                                               text  \\\n",
       "0  1241025578527903750  For the average American the best way to tell ...   \n",
       "1  1240467080954228737                           this is fucking bullshit   \n",
       "2  1240716889162018816  Can y’all please just follow the government’s ...   \n",
       "3  1241062514886090754  No offense but the corona virus disappearing b...   \n",
       "4  1241447017945223169  This is the face of someone who just spent 9 h...   \n",
       "\n",
       "  q1_label                              q2_label                    q3_label  \\\n",
       "0       no                                   NaN                         NaN   \n",
       "1       no                                   NaN                         NaN   \n",
       "2       no                                   NaN                         NaN   \n",
       "3       no                                   NaN                         NaN   \n",
       "4      yes  2_no_probably_contains_no_false_info  4_yes_probably_of_interest   \n",
       "\n",
       "                      q4_label        q5_label            q6_label  \\\n",
       "0                          NaN             NaN  no_joke_or_sarcasm   \n",
       "1                          NaN             NaN      no_not_harmful   \n",
       "2                          NaN             NaN      no_not_harmful   \n",
       "3                          NaN             NaN      no_not_harmful   \n",
       "4  1_no_definitely_not_harmful  yes_not_urgent      no_not_harmful   \n",
       "\n",
       "             q7_label  \n",
       "0  no_not_interesting  \n",
       "1  no_not_interesting  \n",
       "2  no_not_interesting  \n",
       "3  no_not_interesting  \n",
       "4  no_not_interesting  "
      ]
     },
     "execution_count": 73,
     "metadata": {},
     "output_type": "execute_result"
    }
   ],
   "source": [
    "import pandas as pd  # ?\n",
    "import csv  # ?\n",
    "import math\n",
    "# tsv_file = open(\"covid_training.tsv\")\n",
    "# read_tsv = pd.read_csv(tsv_file, delimiter=\"\\t\", encoding=\"utf-8\")\n",
    "# print(read_tsv.head())\n",
    "# for line in read_tsv:\n",
    "#     print(line)\n",
    "file = open(\"covid_training.tsv\", \"r\", encoding='utf-8')\n",
    "file = pd.read_csv(file, sep='\\t', encoding='utf-8')\n",
    "\n",
    "\n",
    "def load_dataset(path: str, with_headers = True) -> any:\n",
    "    file = open(path, \"r\", encoding='utf-8')\n",
    "\n",
    "    if with_headers:\n",
    "        return pd.read_csv(file, sep='\\t', encoding='utf-8')\n",
    "    else:\n",
    "        return pd.read_csv(file, sep='\\t', encoding='utf-8', header = None)\n",
    "file.head()"
   ]
  },
  {
   "cell_type": "markdown",
   "metadata": {},
   "source": [
    "## 1. Convert all tweets to lowercase"
   ]
  },
  {
   "cell_type": "markdown",
   "metadata": {},
   "source": [
    "#### Extract the tweets from the training set\n",
    "\n",
    "End up with a list of strings where each string is a tweet.\n",
    "\n",
    "Convert all these strings to lowerase."
   ]
  },
  {
   "cell_type": "code",
   "execution_count": 44,
   "metadata": {},
   "outputs": [],
   "source": [
    "file = open(\"covid_training.tsv\", \"r\", encoding='utf-8')\n",
    "df = pd.read_csv(file, sep='\\t', encoding='utf-8')\n",
    "\n",
    "df['text'] = df['text'].str.lower()  #Convert to lowercase"
   ]
  },
  {
   "cell_type": "markdown",
   "metadata": {},
   "source": [
    "## 2. Build a list of all the words in the set\n",
    "\n",
    "- Separate words by spaces.\n",
    "- Use words as features and their frequency as the value.\n",
    "\n",
    "Create a dictionary with words as the keys and their frequency as the value. "
   ]
  },
  {
   "cell_type": "code",
   "execution_count": 47,
   "metadata": {},
   "outputs": [],
   "source": [
    "words = {}\n",
    "\n",
    "for tweet in df.text:\n",
    "  wit = tweet.split()\n",
    "  for w in wit:\n",
    "    if w in words:\n",
    "      words[w] += 1\n",
    "    else:\n",
    "      words[w] = 1\n"
   ]
  },
  {
   "cell_type": "markdown",
   "metadata": {},
   "source": [
    "## 3. Create the vocabularies\n",
    "\n",
    "- Original Vocabulary (NB-BOW-OV): every word in the training set is part of the vocabulary\n",
    "- Filtered Vocabulary (NB-BOW-FV): only words that appear at least 2 times are part of the vocabulary"
   ]
  },
  {
   "cell_type": "code",
   "execution_count": 49,
   "metadata": {},
   "outputs": [
    {
     "name": "stdout",
     "output_type": "stream",
     "text": [
      "{'for': 124, 'the': 453, 'american': 11, 'best': 6, 'way': 11, 'to': 335, 'tell': 5, 'if': 42, 'you': 98, 'have': 65, 'covid-19': 93, 'is': 200, 'cough': 3, 'in': 181, 'a': 262, 'face': 7, 'and': 227, 'their': 27, 'test': 15, 'results': 2, 'this': 121, 'fucking': 6, 'can': 38, 'y’all': 12, 'please': 25, 'just': 38, 'follow': 8, 'so': 23, 'we': 67, 'out': 22, 'be': 76, 'i': 86, 'feel': 6, 'like': 27, 'that': 112, 'losing': 3, 'more': 17, 'time': 13, 'because': 20, 'one': 19, 'or': 34, 'two': 9, 'kids': 3, 'can’t': 4, 'no': 30, 'but': 40, 'corona': 75, 'virus': 65, 'before': 5, 'april': 2, 'actually': 4, 'sucks': 2, 'of': 229, 'someone': 7, 'who': 39, 'spent': 3, '9': 6, 'personal': 4, 'protective': 2, 'ill': 2, 'covid19': 2, 'patients': 10, 'around': 9, '-': 40, 'are': 74, 'only': 17, 'at': 53, 'start.': 2, 'am': 7, 'people,': 6, 'do': 26, 'social': 8, 'distancing': 2, 'self': 7, 'isolation': 2, '#covid19': 47, 'on': 96, 'my': 41, 'door': 4, 'told': 9, 'him': 8, 'he': 36, 'stay': 8, 'free': 3, '5': 5, 'with': 74, '4': 2, \"don't\": 15, 'need': 19, 'boris': 3, 'me': 15, 'what': 31, 'after': 20, 'over,': 3, 'better': 4, 'never': 9, 'hear': 8, 'anyone': 6, 'workers': 10, 'again.': 4, 'those': 14, 'people': 47, 'general': 2, 'workers,': 3, 'food': 4, \"didn't\": 4, 'even': 8, 'think': 9, 'dr.': 2, 'past': 5, 'weeks': 12, 'treating': 2, 'knew': 6, 'there': 27, 'was': 42, 'today': 7, 'lost': 5, 'his': 20, 'own': 6, 'coronavirus': 19, 'gave': 3, 'life': 9, 'hope': 6, 'many': 15, 'know': 21, 'name': 2, 'fun': 4, 'its': 14, 'spread': 33, 'disease': 6, 'every': 11, 'other': 14, 'country': 6, 'not': 71, 'fully': 2, 'by': 46, 'white': 5, '&amp;': 45, 'take': 15, 'accountability': 2, 'lives': 7, 'when': 22, 'shit': 3, 'promise': 3, 'each': 2, 'going': 13, 'our': 23, 'survived': 2, '2020': 2, 'shortness': 3, 'symptom': 3, 'right': 8, 'also': 8, 'gives': 3, 'has': 54, 'been': 20, 'giving': 5, 'thinking': 2, 'corona.': 4, 'so,': 5, 'last': 9, 'week': 8, 'battling': 2, 'risk,': 2, 'mild': 2, 'want': 16, 'up': 20, 'about': 44, 'i’ve': 2, 'through': 9, 'these': 10, 'it': 68, 'phd': 2, 'from': 65, 'whatsapp': 4, 'friends.': 3, 'then': 11, 'cool': 2, 'against': 11, 'relief': 4, 'needs': 6, 'go': 15, 'future': 2, '“hey': 2, 'grandpa': 3, 'me:': 2, 'korea': 4, '10': 6, 'minute': 2, 'kit': 3, 'now': 26, 'they': 37, \"there's\": 8, 'big': 8, 'room': 2, 'now.': 8, 'covid': 3, \"isn't\": 8, 'epidemic': 4, \"it's\": 13, 'come': 3, 'bad': 4, 'time.': 3, 'ever': 3, 'good': 6, 'health': 26, \"we're\": 5, 'gonna': 6, 'start': 5, 'celebrities': 2, 'keep': 6, 'trying': 5, 'away': 7, 'something': 8, 'maybe': 3, 'will': 36, 'leave': 4, 'thread:': 5, 'mostly': 2, 'talk': 2, 'movies': 2, 'here': 9, 'make': 11, 'surgical': 2, 'masks': 4, 'medical': 13, 'short': 2, 'supply.': 2, '2': 11, 'million': 5, 'day,': 3, 'looking': 5, 'help': 15, 'any': 14, 'possible': 3, 'during': 8, 'house': 2, 'would': 14, 'pop': 2, '6': 6, 'thursday': 4, 'cure': 5, 'did': 12, 'almost': 4, 'everything': 4, 'home.': 4, 'saw': 6, 'friend': 2, 'days.': 2, 'had': 16, 'beer': 2, 'an': 32, 'outside': 7, 'either': 3, 'hands': 6, '3': 8, 'still': 14, 'caught': 3, 'him.': 3, 'fuck': 6, 'thing.': 3, 'understand': 3, 'how': 21, 'year': 5, 'order': 5, 'system': 5, 'bro': 3, 'china': 8, 'get': 23, 'adequate': 2, 'testing': 17, 'over': 20, 'invite': 3, 'sometimes': 2, 'ass': 5, 'miss': 4, 'your': 34, 'without': 10, '“i': 3, 'stopped': 4, 'said,': 2, 'italian': 2, 'mayors': 2, 'violating': 2, 'quarantine.': 5, 'yes,': 3, 'unless': 3, 'doctor': 5, 'it.': 10, 'both': 7, 'heart': 2, 'lead': 3, 'taking': 5, 'day': 6, 'pass': 3, 'into': 7, 'thank': 7, 'everyone': 12, 'messages': 3, 'support': 4, 'asked': 2, 'er': 7, 'share': 5, 'you.': 5, 'doc': 4, 'fellow': 2, 'absolutely': 3, 'essential': 2, 'state': 6, 'governments': 2, 'work': 11, 'close': 9, 'ensure': 2, 'this.': 2, 'fight': 10, 'create': 5, 'india.': 3, 'found': 6, 'gaston': 3, 'spreading': 7, 'why': 14, \"haven't\": 2, 'closed': 2, 'new': 20, 'thing': 6, \"here's\": 4, 'parties.': 2, \"i'm\": 10, 'send': 3, 'police': 3, '#coronavirus': 79, 'some': 9, 'advice': 4, 'nurse': 2, '“what': 2, 'seen': 4, 'lot': 4, 'avoid': 5, 'getting': 5, 'first': 12, 'place': 2, '--': 4, 'hand': 2, 'government': 12, 'wants': 3, 'inside': 4, 'change': 2, 'dad': 2, 'love': 3, 'calling': 6, 'under': 7, 'millennials': 2, 'home': 8, 'boomer': 2, 'parents': 2, 'won’t': 2, 'guys': 2, 'happy': 2, 'real': 5, 'thanks': 3, 'world': 12, 'organization': 2, 'warns': 2, 'young': 2, 'people:': 2, 'could': 11, 'hospital': 12, 'kill': 2, 'don’t': 11, 'sick,': 3, 'where': 6, 'between': 3, 'death': 11, 'man': 10, 'bill': 5, 'much.': 2, 'video': 2, 'watch': 4, 'again': 4, 'up.': 2, 'cancel': 3, 'check': 6, 'it?': 2, 'as': 47, 'hard': 3, '#covidー19': 4, 'you’re': 2, 'i’m': 4, 'might': 3, 'remind': 2, 'cdc': 2, 'announced': 2, 'via': 2, 'story': 4, 'down': 6, 'staying': 2, 'save': 2, 'crisis': 5, 'else': 4, '“corona': 2, 'voice': 3, '?': 3, 'sick': 12, 'aggressive': 2, 'issue.': 2, 'look': 6, 'mom': 2, 'her': 11, 'message': 4, 'son': 2, 'continue': 2, 'black': 3, 'rona': 2, ':': 6, 'may': 7, 'right?': 2, 'nasty': 2, 'flu': 10, 'went': 4, 'round': 3, '/': 2, 'early': 5, 'telling': 4, 'you,': 3, 'ppl': 4, 'were': 11, '(including': 2, 'me)': 2, 'symptoms': 8, 'due': 11, 'thought': 5, 'twitter': 6, 'further': 2, 'all': 41, 'ask': 9, 'times': 6, '.': 6, 'them,': 2, 'yet': 4, 'war': 2, 'end': 4, 'politicians': 2, 'act': 2, 'than': 18, 'remember': 3, 'job': 2, 'them': 11, 'company': 2, 'protect': 9, 'global': 6, \"can't\": 5, 'working': 4, 'companies.': 2, '15': 4, 'years': 7, 'ago': 3, 'fighting': 4, 'tested': 5, 'entire': 7, 'population.': 2, 'read': 8, 'bitch': 5, 'originated': 5, 'china,': 3, 'back': 9, 'call': 7, 'eating': 2, 'pure': 2, 'ain’t': 2, 'built': 2, 'same': 6, 'epidemiologist': 2, 'helped': 2, 'says': 8, 'handling': 2, 'most': 5, 'irresponsible': 2, 'official': 6, \"i've\": 2, 'here’s': 2, 'current': 3, 'among': 2, 'public': 14, 'experts': 8, 'approach': 2, 'coming': 7, 'weeks.': 2, 'making': 6, 'cases': 30, 'worldwide': 2, 'insider': 2, 'trading': 2, 'briefing': 2, 'should': 15, 'immediately': 2, 'resign.': 2, 'donate': 2, 'them.': 3, 'small': 2, 'always': 5, 'until': 2, 'professionals': 3, 'heroes': 2, 'putting': 2, 'line': 2, 'already': 8, 'front': 4, 'makes': 5, 'reminder': 6, 'us': 25, 'dear': 12, 'allah,': 2, 'costs': 2, 'president': 11, 'showing': 4, 'too': 3, 'long': 2, 'fat': 3, 'took': 4, 'off': 5, 'dirty': 2, 'racist': 3, 'body': 2, 'wear': 3, 'n': 2, 'finding': 2, 'she': 7, 'infected': 8, 'harvey': 2, 'germany': 3, 'tests': 6, 'total': 2, 'made': 5, 'it’s': 10, 'rate': 4, 'tiny': 2, 'bcos': 2, 'mass': 2, 'allows': 2, 'quarantine': 6, 'fewer': 2, 'reported': 6, 'cases.': 3, 'breaking:': 5, 'child': 2, 'age': 2, 'died': 9, 'officials': 4, 'us.': 4, 'infects': 2, 'la': 2, 'says.': 2, 'nation': 2, '#indiafightscorona': 2, 'said:': 2, 'doctors,': 2, 'shut': 3, \"we'd\": 3, 'science': 6, 'put': 12, 'politics': 2, '#covid19.': 8, 'much': 4, 'great': 7, 'together': 2, 'couple': 2, 'ago,': 2, 'talking': 2, 'next': 4, 'admitted': 6, 'whole': 2, 'within': 2, 'months': 3, 'dead': 2, 'quarantined': 3, 'huge': 2, 'provide': 2, 'strong': 2, 'desire': 2, 'return': 2, 'functioning': 2, 'economy.': 2, 'such': 5, 'society': 3, 'continues': 2, 'tried': 2, 'corporate': 2, 'bailout': 2, 'care': 7, 'class': 4, 'focus': 3, 'infect': 2, 'family': 4, 'wouldn’t': 2, 'proper': 2, 'treatment': 3, 'got': 9, 'virus,': 5, 'she’s': 2, '60': 2, 'old': 6, 'patients,': 2, 'prevent': 4, 'community': 3, 'month': 3, 'italy': 5, 'case': 12, '#coronavirus.': 13, 'happened': 2, 'learn': 4, 'director': 2, 'allegedly': 7, 'refused': 5, 'prioritize': 2, 'symptoms.': 2, 'sen': 3, 'illegally': 2, 'using': 2, 'information': 9, 'used': 3, 'stock': 5, 'texas,': 2, 'largest': 2, 'states.': 3, 'tweeting': 2, 'rumors': 6, 'let': 6, '...': 3, 'news': 17, 'guard': 2, 'doing': 5, '#covid_19': 6, 'response,': 2, 'nature': 2, 'returning': 3, 'fake.': 2, 'large': 2, '#covid19,': 3, 'sources': 3, 'accurate': 2, 'information.': 2, 'control': 3, 'sharing': 5, 'republican': 2, 'selling': 2, 'millions': 4, 'while': 7, 'hoax.': 8, 'fox': 4, 'claims': 4, 'called': 9, \"let's\": 4, 'receipts.': 2, 'danger': 2, 'party': 4, 'hoax': 6, 'trump?': 2, 'being': 15, 'shared': 2, 'platforms': 2, 'fake': 29, 'developed': 4, 'cause': 3, 'fear': 3, 'panic': 10, 'disregard': 2, 'isn’t': 4, 'believe': 4, 'pm': 2, 'local': 4, 'see': 10, 'few': 4, 'fact': 6, 'reportedly': 5, 'uk': 4, 'johnson': 2, 'shutdown': 2, 'policy': 2, 'failure': 2, 'leadership': 4, 'lives.': 2, 'things': 3, 'done': 2, 'blamed': 2, 'conditions': 2, 'businesses': 3, 'enough': 8, 'chief': 4, 'staff,': 2, '|': 3, 'top': 2, 'seriously': 2, 'since': 8, 'trip': 4, 'ron': 3, 'article': 3, 'positive': 7, 'rumours': 2, 'less': 4, '!': 3, 'looks': 4, 'note': 2, 'tweet': 6, 'online': 2, 'rumors.': 4, 'sure': 3, 'info': 3, 'sources.': 2, 'daily': 5, 'briefings': 2, '@cdcgov': 3, 'providing': 2, 'pandemic': 5, 'hit': 2, 'others': 4, 'filled': 2, 'saying': 5, 'give': 5, '“change': 2, 'nothing.': 2, 'serious': 3, 'situation': 2, 'delhi': 2, 'indian': 4, 'woman': 3, 'area': 2, 'north': 2, \"won't\": 3, 'guy': 2, 'spoke': 2, 'photo': 2, 'circulating': 2, 'false': 4, 'details': 2, 'confirmed': 12, 'paul,': 2, 'paid': 3, 'leave,': 2, 'march': 8, '22': 2, 'published': 2, '“the': 4, 'hoax”': 2, 'india': 10, 'corona,': 2, 'congress': 4, 'shortage': 2, 'students': 2, 'viewers': 2, 'risk': 2, 'action': 4, 'hold': 3, 'conspiracy': 4, 'really': 8, 'america': 3, 'u': 2, 'pl': 2, 'stop': 15, 'spreads': 4, 'educate': 2, 'yourself': 2, 'rt': 8, 'coronavirus:': 2, 'account': 4, 'spray': 3, '@realdonaldtrump': 18, '“we': 2, 'doctors': 4, 'explain': 2, 'very': 4, 'pidi': 2, 'quote': 2, 'say': 9, 'chinese': 8, 'communist': 3, 'outbreak': 4, 'political': 3, 'pushing': 2, 'campaign': 3, 'united': 6, '1': 9, 'dr': 3, 'city': 2, 'refuse': 3, 'testing.': 4, 'list': 2, 'single': 3, 'in:': 2, 'dies': 2, 'patna.': 2, 'qatar.': 3, '1st': 2, 'senior': 2, 'citizen.': 2, 'immune': 2, 'scam': 2, 'upon': 2, '#fakenews': 5, 'q': 2, 'clearly': 2, 'far': 4, 'trump': 20, 'is.': 2, 'nigeria': 2, 'case,': 2, 'viral': 2, 'media.': 3, 'demanding': 2, 'disease.': 2, 'impact': 2, 'w/': 3, 'citizens': 3, \"trump's\": 5, 'ago:': 2, 'must': 4, 'spread.': 2, 'americans': 3, 'rumor': 3, 'severe': 2, 'respiratory': 3, 'justice': 2, 'emergency': 7, 'staff': 2, 'instead': 4, 'gets': 2, 'shameful': 2, 'person': 6, 'hate': 2, 'came': 4, 'well': 3, 'another': 6, 'peddled': 2, 'china.': 5, 'vegetarianism': 3, '#corona': 3, '+': 2, \"india's\": 2, 'confirms': 2, 'warning': 2, 'morning,': 2, 'website': 2, 'likely': 3, 'impose': 2, 'financial': 3, 'caused': 2, 'advised': 2, 'full': 4, 'extent': 2, 'fine.': 2, '#uae': 2, 'media': 11, 'whatsapp.': 2, 'heard': 4, 'pneumonia': 2, 'hospital.': 2, 'wishes': 2, 'alert': 2, 'infection': 4, 'released': 2, 'home,': 4, 'tied': 2, '🇺🇸': 5, 'comment': 2, 'handle': 3, '@': 2, 'request': 2, 'delete': 2, 'soon': 5, '“hoax”': 2, 'exposed': 2, 'taken': 2, 'blood': 2, 'hands.': 2, 'days': 10, '2/28': 2, 'actual': 2, 'precautions': 3, 'safe.': 4, 'lies': 3, 'die': 10, 'donald': 3, 'warned': 2, 'join': 3, 'stop.': 2, 'gen': 2, ';': 2, 'wash': 5, 'attended': 2, 'party.': 2, 'decided': 7, 'isolate': 2, '14': 3, 'light': 2, 'disinformation.': 2, 'hatred': 2, 'does': 5, 'correct': 3, 'tapper': 2, 'hoax,': 3, 'playing': 2, 'trust': 3, 'news.': 3, 'responsible': 5, 'report': 2, 'said': 4, 'quiet': 2, 'cannot': 3, 'reports': 3, '38-year-old': 2, 'travel': 6, 'history': 5, 'qatar': 5, 'aiims,': 2, 'aiims': 3, 'patna': 2, 'foreign': 2, 'prepare': 2, 'qatar,': 2, 'south': 4, 'africa,': 2, 'saif': 2, 'ali': 2, 'goes': 2, 'bihar.': 2, '38': 4, 'returned': 2, 'aged': 2, '20.': 2, '#coronavirusupdate': 2, 'travellers': 3, 'traveller': 2, 'contact': 4, '@fifacom': 2, 'amnesty': 2, 'ago.': 3, 'reporting': 2, 'milan': 2, 'didn’t': 2, 'people.': 2, 'alert‼️‼️‼️': 2, 'money': 3, 'gloves,': 2, 'plastic': 2, 'tonight.': 2, 'collecting': 2, 'tonight': 3, 'safety.': 2, 'health.': 3, 'victims': 3, 'combination': 2, 'lung': 3, 'damage': 2, 'patient': 5, '@thespybrief': 2, 'statement': 3, 'works': 2, 'west': 2, 'negative': 2, 'virus.': 6, 'stopping': 3, 'albums': 2, 'cost': 4, 'deadly': 3, 'today.': 3, 'incompetence': 4, 'administration': 4, 'massive': 2, '@potus': 4, 'failed': 3, 'contain': 6, 'means': 2, 'states': 5, 'kits': 3, 'vaccine': 3, 'lack': 6, 'kits.': 3, 'dereliction': 3, 'duty': 2, '@realdonaldtrump.': 2, 'january.': 2, 'outbreak.': 3, 'unacceptable.': 2, 'rick': 2, 'estimates': 2, 'assistant': 2, 'secretary': 2, 'probably': 2, 'asian': 5, 'transmission': 2, 'toilet': 2, 'paper': 2, 'problem': 4, 'vegas.': 2, 'usa': 2, 'research.': 2, 'thread': 3, 'latest': 4, 'research': 3, 'retweet': 3, 'healthcare': 3, 'this,': 2, 'according': 4, 'federal': 2, 'government,': 2, 'which': 6, 'scare': 4, '@vp': 2, 'pence:': 2, 'below': 2, 'also,': 2, 'asians': 3, \"you're\": 8, 'different': 2, 'across': 3, 'number': 4, 'testing,': 2, 'turning': 2, 'france': 3, '🥰': 2, 'globally': 2, 'deaths': 5, 'fine': 3, '1.': 7, 'least': 4, '20': 3, '2.': 6, 'sneeze': 2, '3.': 6, 'racism': 2, 'touching': 2, 'world.': 2, '#coronavirusoutbreak,': 2, 'experts.': 2, 'stake.': 2, 'vietnam': 2, 'four': 2, 'years.': 2, 'crisis.': 2, 'cold': 2, 'seeing': 3, 'first,': 2, 'clip': 2, '#coronvirus': 2, 'jan': 2, 'numbers': 5, 'bunch': 2, 'deadlier': 3, 'minimize': 2, 'well.': 2, 'including': 2, '56': 2, 'administration,': 2, 'enemy': 3, 'effort': 2, 'holy': 2, 'clean': 2, 'safety': 3, 'officially': 2, 'measures': 3, 'tiktok': 2, 'refusing': 2, 'donated': 4, 'approx.': 3, 'won': 2, 'dynasty': 2, 'downplayed': 2, 'pence': 2, 'listen': 2, 'countries': 5, 'little': 2, 'increase': 2, 'clinical': 3, 'office': 2, 'u.s.': 2, 'question': 2, 'today,': 3, 'tested?': 2, 'area.': 2, 'critical': 2, 'action.': 2, 'allow': 2, 'nation.': 2, 'private': 2, '@houseforeign': 2, 'committee,': 2, '@secpompeo': 2, 'deny': 2, 'strange': 2, 'evidence': 2, 'schools': 3, 'enable': 2, 'wuhan': 2, 'visits.': 2, 'known': 2, 'coronavirus.': 3, 'iran': 2, 'incl': 2, '16': 3, 'worse': 2, 'people!': 2, 'care.': 2, 'three': 2, 'politician': 2, 'orders': 2, 'nothing': 2, 'first.': 2, 'desist': 2, 'show': 2, \"he's\": 3, 'wanted': 2, 'donating': 3, 'salary': 4, '@hhsgov': 2, 'confront,': 2, 'contain,': 2, 'combat': 3, 'hereâ\\x80\\x99s': 4, '\"the': 2, 'kills': 2, 'road': 2, '&': 5, 'live': 3, 'chronic': 2, 'virus\"': 2, 'novel': 2, 'hence,': 2, 'minister': 2, 'israel': 2, 'netanyahu': 2, 'israelis': 3, '<link>': 11, '#coronaalert': 2, '4.': 2, '6.': 2, '7.': 2, 'spain': 2, 'killed': 2, '3.4%': 4, 'flu,': 5, 'seasonal': 4, '1%': 2, 'ebola': 2, 'announcing': 2, 'associated': 2, '#coronavirus,': 3, 'access': 2, 'following': 2, 'test.': 2, 'peopleâ\\x80\\x99s': 2, 'members': 2, 'wonâ\\x80\\x99t': 2, 'quit': 2, 'emergency.': 2, '#coronavirusindia': 2, 'crisis?': 2, 'here.': 2, '#covid2019': 3, 'denied': 2, '#coronavirus?': 2, 'excellent': 2, 'died.': 2, 'doesnâ\\x80\\x99t': 3, 'amazing!': 2, 'outbreak,': 2, 'period': 3, 'wake': 2, 'benefits': 3, 'blame': 2, 'freaking': 2, 'wondering': 2, 'virus?': 2, 'v.': 2, 'w': 5, 'flights': 2, 'cheap': 2, 'incubation': 2, 'throat': 2, 'aware': 2, 'attendee': 2, \"gov't\": 3, 'week,': 2, 'kind': 2, 'covid-19.': 2, 'hotel': 2, 'focusing': 2, 'sars-cov-2': 2, 'youâ\\x80\\x99d': 2, 'â£574.70': 2, 'ng': 2, 'na': 2, '60s.': 2, 'chloroquine': 2, 'rate.': 2}\n"
     ]
    }
   ],
   "source": [
    "ov = words\n",
    "\n",
    "fv = {}\n",
    "\n",
    "for w in ov:\n",
    "  if ov[w] > 1:\n",
    "    fv[w] = ov[w]\n",
    "    \n",
    "print(fv)"
   ]
  },
  {
   "cell_type": "markdown",
   "metadata": {},
   "source": [
    "## 4. Specs\n",
    "\n",
    "- **Smoothing:** Use δ = 0.01 smoothing \n",
    "    - this means we must also add **0.01 x size of vocabulary** to the denominator\n",
    "    \n",
    "- **Log:** Use log<sub>10</sub>"
   ]
  },
  {
   "cell_type": "markdown",
   "metadata": {},
   "source": [
    "## 5. Train the classifier"
   ]
  },
  {
   "cell_type": "markdown",
   "metadata": {},
   "source": [
    "v = vocabulary\n",
    "\n",
    "__\n",
    "\n",
    "T<sub>total</sub> = total number of tweets\n",
    "\n",
    "T<sub>yes</sub> = number of tweets labeled **yes**\n",
    "\n",
    "T<sub>no</sub> = number of tweets labeled **no**\n",
    "\n",
    "__\n",
    "\n",
    "TW<sub>yes</sub> = number of words in tweets labeled **yes**\n",
    "\n",
    "TW<sub>no</sub> = number of words in tweets labeled **no**\n",
    "\n",
    "w<sub>i-yes</sub> = number of times the word w<sub>i</sub> appears in all tweets labeled **yes**\n",
    "\n",
    "w<sub>i-no</sub> = number of times the word w<sub>i</sub> appears in all tweets labeled **no**"
   ]
  },
  {
   "cell_type": "markdown",
   "metadata": {},
   "source": [
    "### P(yes)\n",
    "\n",
    "Calculate P(yes) using the training set.\n",
    "\n",
    "P(yes) = T<sub>yes</sub> / T<sub>total</sub>"
   ]
  },
  {
   "cell_type": "code",
   "execution_count": 57,
   "metadata": {},
   "outputs": [
    {
     "data": {
      "text/plain": [
       "0.6190476190476191"
      ]
     },
     "execution_count": 57,
     "metadata": {},
     "output_type": "execute_result"
    }
   ],
   "source": [
    "num_of_yes = df.q1_label.value_counts()['yes']\n",
    "\n",
    "p_yes = num_of_yes / len(df.q1_label)"
   ]
  },
  {
   "cell_type": "markdown",
   "metadata": {},
   "source": [
    "### P(no)\n",
    "\n",
    "Calculate P(no) using the training set.\n",
    "\n",
    "P(no) = T<sub>no</sub> / T<sub>total</sub>"
   ]
  },
  {
   "cell_type": "code",
   "execution_count": 60,
   "metadata": {},
   "outputs": [],
   "source": [
    "p_no = 1 - p_yes"
   ]
  },
  {
   "cell_type": "markdown",
   "metadata": {},
   "source": [
    "### Conditional Probabilities\n",
    "\n",
    "For **every** word w<sub>i</sub> in the vocabulary, calculate:\n",
    "\n",
    "(without smoothing)\n",
    "\n",
    "P'(w<sub>i</sub> | yes) = w<sub>i-yes</sub> / TW<sub>yes</sub>\n",
    "\n",
    "P'(w<sub>i</sub> | no) = w<sub>i-no</sub> / TW<sub>no</sub>\n",
    "\n",
    "(with smoothing)\n",
    "\n",
    "P(w<sub>i</sub> | yes) = (w<sub>i-yes</sub> + 0.01) / (TW<sub>yes</sub> + 0.01 * |v|)\n",
    "\n",
    "P(w<sub>i</sub> | no) = (w<sub>i-no</sub> + 0.01) / (TW<sub>no</sub> + 0.01 * |v|)\n",
    "\n",
    "**Note: No need to calulate without smoothing! Just showing the difference.**"
   ]
  },
  {
   "cell_type": "code",
   "execution_count": 72,
   "metadata": {},
   "outputs": [
    {
     "name": "stdout",
     "output_type": "stream",
     "text": [
      "{'average': 0.000266910497774865, 'rich': 0.000266910497774865, 'person’s': 0.000266910497774865, 'wait': 0.000266910497774865, 'bullshit': 0.000266910497774865, 'government’s': 0.000266910497774865, 'instructions': 0.000266910497774865, 'knock': 0.000266910497774865, 'done?!': 0.000266910497774865, 'kindergartner': 0.000266910497774865, 'keeps': 0.000266910497774865, 'losing': 0.0007954461369330133, 'recess': 0.000266910497774865, 'directions.': 0.000266910497774865, 'offense': 0.000266910497774865, 'disappearing': 0.000266910497774865, 'sucks': 0.0005311783173539391, 'over,': 0.0007954461369330133, 'trash': 0.000266910497774865, '“low': 0.000266910497774865, 'end”': 0.000266910497774865, 'grocery': 0.000266910497774865, 'store,': 0.000266910497774865, 'dollar': 0.000266910497774865, 'fast': 0.000266910497774865, 'food': 0.0010597139565120875, 'walmart': 0.000266910497774865, 'employees,': 0.000266910497774865, 'deserved': 0.000266910497774865, 'wage': 0.000266910497774865, 'survive': 0.000266910497774865, 'on?': 0.000266910497774865, 'shit': 0.0007954461369330133, 'passes': 0.000266910497774865, 'each': 0.0005311783173539391, 'we’re': 0.000266910497774865, 'zombie': 0.000266910497774865, 'apocalypse': 0.000266910497774865, 'breath': 0.000266910497774865, 'breath?': 0.000266910497774865, 'anxiety.': 0.000266910497774865, 'anxiety?': 0.000266910497774865, 'thinking': 0.0005311783173539391, 'future': 0.0005311783173539391, 'grandson:': 0.000266910497774865, '“hey': 0.0005311783173539391, 'grandpa': 0.0007954461369330133, 'corona?”': 0.000266910497774865, 'me:': 0.0005311783173539391, 'https://t.co/zjbdz22lps': 0.000266910497774865, 'sing': 0.000266910497774865, 'disney': 0.000266910497774865, 'movie': 0.000266910497774865, 'develop': 0.000266910497774865, 'feelings': 0.000266910497774865, 'mans': 0.000266910497774865, 'house': 0.0005311783173539391, 'vicodin': 0.000266910497774865, 'saturday': 0.000266910497774865, 'morning.': 0.000266910497774865, 'mcdonalds': 0.000266910497774865, 'serve': 0.000266910497774865, 'billion': 0.000266910497774865, 'hamburgers': 0.000266910497774865, 'five': 0.000266910497774865, 'drive': 0.000266910497774865, 'thru': 0.000266910497774865, 'overwhelms': 0.000266910497774865, 'bro': 0.0007954461369330133, 'reading': 0.000266910497774865, 'niggas': 0.000266910497774865, 'power': 0.000266910497774865, 'levels': 0.000266910497774865, 'cant': 0.000266910497774865, '🧐': 0.000266910497774865, 'invite': 0.0007954461369330133, 'out.': 0.000266910497774865, 'flaky': 0.000266910497774865, 'sometimes': 0.0005311783173539391, 'ass': 0.0013239817760911617, 'lol': 0.000266910497774865, 'miss': 0.0010597139565120875, 'ex,': 0.000266910497774865, \"'look,\": 0.000266910497774865, 'movie.': 0.000266910497774865, 'smith': 0.000266910497774865, 'legend.': 0.000266910497774865, 'home.”': 0.000266910497774865, 'updated': 0.000266910497774865, 'compilation': 0.000266910497774865, 'italian': 0.0005311783173539391, 'mayors': 0.0005311783173539391, 'violating': 0.0005311783173539391, 'subtitles': 0.000266910497774865, 'accurate.': 0.000266910497774865, 'https://t.co/60v4csuonb': 0.000266910497774865, '5:': 0.000266910497774865, 'rediscovered': 0.000266910497774865, 'farming': 0.000266910497774865, 'incredible': 0.000266910497774865, 'encouragement.♥️': 0.000266910497774865, 'bit': 0.000266910497774865, 'rt:': 0.000266910497774865, 'brief': 0.000266910497774865, 'dispatch': 0.000266910497774865, 'frontline:': 0.000266910497774865, 'dogs': 0.000266910497774865, 'owners': 0.000266910497774865, 'https://t.co/ciwmnz0q36': 0.000266910497774865, 'favourite': 0.000266910497774865, 'regional': 0.000266910497774865, 'presidents': 0.000266910497774865, \"here's\": 0.0010597139565120875, 'eng': 0.000266910497774865, 'subtitled': 0.000266910497774865, 'compilation.': 0.000266910497774865, 'wanna': 0.000266910497774865, 'throw': 0.000266910497774865, 'graduation': 0.000266910497774865, 'parties.': 0.0005311783173539391, 'over.': 0.000266910497774865, 'flamethrowers.”': 0.000266910497774865, 'https://t.co/nbyuwepivt': 0.000266910497774865, 'finally,': 0.000266910497774865, 'sensible': 0.000266910497774865, 'nurse': 0.0005311783173539391, 'recommendations': 0.000266910497774865, 'try': 0.000266910497774865, 'washing,': 0.000266910497774865, 'hygiene': 0.000266910497774865, 'for...': 0.000266910497774865, 'quarantine:': 0.000266910497774865, 'dad': 0.0005311783173539391, 'cats': 0.000266910497774865, '😭😭😭😭😭😭😭😭': 0.000266910497774865, 'https://t.co/mldfxzce2p': 0.000266910497774865, 'guys': 0.0005311783173539391, 'happy': 0.0005311783173539391, 'thing.”': 0.000266910497774865, 'wow': 0.000266910497774865, 'idea!': 0.000266910497774865, 'kylie!': 0.000266910497774865, 'https://t.co/gfpnwvfh3e': 0.000266910497774865, 'spain.': 0.000266910497774865, 'volume': 0.000266910497774865, 'up.': 0.0005311783173539391, 'brunch.': 0.000266910497774865, 'postpone': 0.000266910497774865, 'coffee': 0.000266910497774865, 'meet-up.': 0.000266910497774865, 'rain': 0.000266910497774865, 'dinner': 0.000266910497774865, 'doesn’t': 0.000266910497774865, '👇': 0.000266910497774865, '#stayathome': 0.000266910497774865, 'https://t.co/lm9bnfqf3e': 0.000266910497774865, 'goalkeeper...': 0.000266910497774865, 'child...': 0.000266910497774865, 'isolation...': 0.000266910497774865, 'training...': 0.000266910497774865, '😂😂came': 0.000266910497774865, 'himself!': 0.000266910497774865, 'impressed.': 0.000266910497774865, '#stayhomestaysafe': 0.000266910497774865, 'https://t.co/ffzj1le3n1': 0.000266910497774865, 'big,': 0.000266910497774865, 'remind': 0.0005311783173539391, 'god': 0.000266910497774865, 'bigger.✨': 0.000266910497774865, 'anybody': 0.000266910497774865, 'randomly': 0.000266910497774865, 'yell': 0.000266910497774865, 'virus”': 0.000266910497774865, 'cardi’s': 0.000266910497774865, 'protection,': 0.000266910497774865, 'healthcare,': 0.000266910497774865, 'pay—regardless': 0.000266910497774865, 'citizenship': 0.000266910497774865, 'status.': 0.000266910497774865, 'services': 0.000266910497774865, 'dialogue': 0.000266910497774865, 'them?': 0.000266910497774865, 'know!': 0.000266910497774865, 'h-': 0.000266910497774865, 'graduating': 0.000266910497774865, 'threads:': 0.000266910497774865, 'https://t.co/mswk8dkn2g': 0.000266910497774865, 'bts’': 0.000266910497774865, 'overcome': 0.000266910497774865, 'other!': 0.000266910497774865, 'heung-min': 0.000266910497774865, 'message!': 0.000266910497774865, 'https://t.co/fytskdvwjs': 0.000266910497774865, '#stayconnected': 0.000266910497774865, '#staystrong_army': 0.000266910497774865, '#힘내세요_아미': 0.000266910497774865, '#우리의응원을이어주세요': 0.000266910497774865, '#btslovemyself': 0.000266910497774865, '#endviolence': 0.000266910497774865, 'black': 0.0007954461369330133, 'folks:': 0.000266910497774865, 'rona': 0.0005311783173539391, 'gay': 0.000266910497774865, '😭☠️': 0.000266910497774865, 'sis': 0.000266910497774865, 'leaving': 0.000266910497774865, 'https://t.co/vwddlhmawz': 0.000266910497774865, 'wow...taken': 0.000266910497774865, 'morning....never': 0.000266910497774865, 'vegas': 0.000266910497774865, 'empty': 0.000266910497774865, 'tbh': 0.000266910497774865, 'https://t.co/9ybvuimux2': 0.000266910497774865, 'up,': 0.000266910497774865, \"'why\": 0.000266910497774865, 'dont': 0.000266910497774865, \"prom?'\": 0.000266910497774865, 'ado,': 0.000266910497774865, 'prom!': 0.000266910497774865, 'partner.': 0.000266910497774865, 'prom': 0.000266910497774865, 'held': 0.000266910497774865, '25th': 0.000266910497774865, 'march.': 0.000266910497774865, 'interact': 0.000266910497774865, 'join!': 0.000266910497774865, 'batman': 0.000266910497774865, 'bussing': 0.000266910497774865, 'tables': 0.000266910497774865, 'hard.': 0.000266910497774865, 'https://t.co/dzpyqg6ile': 0.000266910497774865, 'job': 0.0005311783173539391, 'interviews': 0.000266910497774865, 'employees': 0.000266910497774865, 'regards': 0.000266910497774865, 'situation.': 0.000266910497774865, 'risking': 0.000266910497774865, 'wayward': 0.000266910497774865, 'bitch': 0.0013239817760911617, 'said—': 0.000266910497774865, 'https://t.co/qhbvs99xxi': 0.000266910497774865, 'gummies?': 0.000266910497774865, 'eating': 0.0005311783173539391, 'rock': 0.000266910497774865, 'ain’t': 0.0005311783173539391, 'here’s': 0.0005311783173539391, 'useful': 0.000266910497774865, 'summary': 0.000266910497774865, 'among': 0.0005311783173539391, 'https://t.co/7cy71sklvg': 0.000266910497774865, 'senator': 0.000266910497774865, 'resign.': 0.0005311783173539391, 'applies': 0.000266910497774865, 'idk': 0.000266910497774865, 'what’s': 0.000266910497774865, 'agree': 0.000266910497774865, 'mini': 0.000266910497774865, 'coopers.': 0.000266910497774865, 'cars': 0.000266910497774865, 'parking': 0.000266910497774865, 'spot': 0.000266910497774865, 'closer.': 0.000266910497774865, 'heroes': 0.0005311783173539391, 'going.': 0.000266910497774865, 'fought': 0.000266910497774865, 'lines': 0.000266910497774865, 'one.': 0.000266910497774865, 'allah,': 0.0005311783173539391, 'gaza': 0.000266910497774865, 'episode': 0.000266910497774865, 'mirror': 0.000266910497774865, 'long': 0.0005311783173539391, 'fat': 0.0007954461369330133, 'smelling': 0.000266910497774865, 'motherfuckin': 0.000266910497774865, 'schedule': 0.000266910497774865, 'trifflin': 0.000266910497774865, 'oompa': 0.000266910497774865, 'loompa': 0.000266910497774865, 'beat': 0.000266910497774865, 'songs': 0.000266910497774865, 'hearing': 0.000266910497774865, 'tl': 0.000266910497774865, '😂': 0.000266910497774865, 'lord': 0.000266910497774865, 'now!': 0.000266910497774865, 'https://t.co/trrmonbfua': 0.000266910497774865, 'capes,': 0.000266910497774865, 'blanket': 0.000266910497774865, 'netflix': 0.000266910497774865, 'n': 0.0005311783173539391, 'chill': 0.000266910497774865, 'comfortable': 0.000266910497774865, 'spots': 0.000266910497774865, 'hits': 0.000266910497774865, '3g': 0.000266910497774865, '🥺': 0.000266910497774865, 'harvey': 0.0005311783173539391, 'weinstein': 0.000266910497774865, 'https://t.co/oqvma6bhk7': 0.000266910497774865, 'https://t.co/8kdvumc9uw': 0.000266910497774865, 'addressing': 0.000266910497774865, 'menace.': 0.000266910497774865, 'https://t.co/jkyfmoqo5a': 0.000266910497774865, 'barista': 0.000266910497774865, 'ya': 0.000266910497774865, 'globe.': 0.000266910497774865, 'good,': 0.000266910497774865, 'strength': 0.000266910497774865, '💌': 0.000266910497774865, 'wants,': 0.000266910497774865, 'practice': 0.000266910497774865, 'freeckicks': 0.000266910497774865, 'goal!': 0.000266910497774865, 'think?': 0.000266910497774865, '🙌': 0.000266910497774865, 'there’s': 0.000266910497774865, 'understandable': 0.000266910497774865, 'desire': 0.0005311783173539391, 'functioning': 0.0005311783173539391, 'economy': 0.000266910497774865, 'uncontrolled': 0.000266910497774865, 'biggest': 0.000266910497774865, 'cities.': 0.000266910497774865, 'trigger': 0.000266910497774865, 'warning.': 0.000266910497774865, 'afraid': 0.000266910497774865, 'he’d': 0.000266910497774865, 'infect': 0.0005311783173539391, 'wouldn’t': 0.0005311783173539391, 'they’re': 0.000266910497774865, 'poor': 0.000266910497774865, 'life.': 0.000266910497774865, 'assure': 0.000266910497774865, 'filipinos': 0.000266910497774865, 'treated': 0.000266910497774865, 'free!': 0.000266910497774865, '⚠': 0.000266910497774865, 'amount': 0.000266910497774865, 'speculation': 0.000266910497774865, 'regarding': 0.000266910497774865, 'rely': 0.000266910497774865, 'page:': 0.000266910497774865, 'https://t.co/12gyseyyxv': 0.000266910497774865, 'https://t.co/mji3xtdpvs': 0.000266910497774865, 'vigilant': 0.000266910497774865, 'misinformation,': 0.000266910497774865, 'rumors,': 0.000266910497774865, 'factual': 0.000266910497774865, 'errors.': 0.000266910497774865, 'trusted': 0.000266910497774865, '#covid19!': 0.000266910497774865, 'https://t.co/1djjkruu5i': 0.000266910497774865, 'gee,': 0.000266910497774865, 'all,': 0.000266910497774865, 'climate': 0.000266910497774865, 'either?': 0.000266910497774865, 'perhaps': 0.000266910497774865, 'crisis,': 0.000266910497774865, 'scientists,': 0.000266910497774865, 'flat-footed': 0.000266910497774865, 'time?': 0.000266910497774865, '8:00': 0.000266910497774865, '#wuhan.': 0.000266910497774865, 'lights': 0.000266910497774865, 'are?': 0.000266910497774865, 'numbers,': 0.000266910497774865, 'apartments': 0.000266910497774865, 'lit': 0.000266910497774865, 'gone?': 0.000266910497774865, '#ccpvirus': 0.000266910497774865, '#covid19on': 0.000266910497774865, 'https://t.co/vbevaqy0xc': 0.000266910497774865, 'infectious': 0.000266910497774865, '!': 0.0007954461369330133, 'meticulous': 0.000266910497774865, 'list,': 0.000266910497774865, 'too!': 0.000266910497774865, 'directions': 0.000266910497774865, 'given': 0.000266910497774865, '@cpmumbaipolice': 0.000266910497774865, 'doubt,': 0.000266910497774865, '#dial100': 0.000266910497774865, 'us!': 0.000266910497774865, '#takingoncorona': 0.000266910497774865, 'https://t.co/eqchwga0ru': 0.000266910497774865, 'sorry,': 0.000266910497774865, '“hoax.”': 0.000266910497774865, '“change': 0.0005311783173539391, 'tone,”': 0.000266910497774865, 'heart,”': 0.000266910497774865, 'mutha': 0.000266910497774865, 'fuckers': 0.000266910497774865, 'endangered': 0.000266910497774865, 'defend': 0.000266910497774865, 'bigot.': 0.000266910497774865, 'sorry.': 0.000266910497774865, 'viewers': 0.0005311783173539391, 'population': 0.000266910497774865, 'lawsuit': 0.000266910497774865, 'responsible.': 0.000266910497774865, '#foxclassaction': 0.000266910497774865, 'awhile.': 0.000266910497774865, 'holidays/early': 0.000266910497774865, 'january?': 0.000266910497774865, '“flu”': 0.000266910497774865, 'shot': 0.000266910497774865, '“didn’t': 0.000266910497774865, 'work”?': 0.000266910497774865, 'chicago': 0.000266910497774865, '#forcedisolation': 0.000266910497774865, '#militarytrain': 0.000266910497774865, '#notahoax': 0.000266910497774865, 'https://t.co/hcdx9mbczn': 0.000266910497774865, '@nytimes': 0.000266910497774865, '@washingtonpost': 0.000266910497774865, 'desperate”:': 0.000266910497774865, 'nurses': 0.000266910497774865, 'masks.': 0.000266910497774865, '#fakenews?': 0.000266910497774865, 'kid': 0.000266910497774865, 'icu': 0.000266910497774865, 'ca.': 0.000266910497774865, '#n95masks': 0.000266910497774865, '#getmeppe': 0.000266910497774865, '1/': 0.000266910497774865, 'https://t.co/cixruymojk': 0.000266910497774865, 'pidi': 0.0005311783173539391, 'journalists': 0.000266910497774865, 'quote': 0.0005311783173539391, 'original': 0.000266910497774865, 'sorry': 0.000266910497774865, 'deactivate': 0.000266910497774865, 'https://t.co/lxxeuieieh': 0.000266910497774865, '#covid19-facepalm': 0.000266910497774865, 'nominees': 0.000266910497774865, 'dr': 0.0007954461369330133, 'ht': 0.000266910497774865, 'ong.cardiologist': 0.000266910497774865, 'penang.': 0.000266910497774865, 'lawan': 0.000266910497774865, 'council': 0.000266910497774865, 'enforcer': 0.000266910497774865, 'sebab': 0.000266910497774865, 'nak': 0.000266910497774865, 'exercise': 0.000266910497774865, 'masa': 0.000266910497774865, 'mco': 0.000266910497774865, 'adham.': 0.000266910497774865, 'minum': 0.000266910497774865, 'air': 0.000266910497774865, 'panas': 0.000266910497774865, 'untuk': 0.000266910497774865, 'bunuh.': 0.000266910497774865, 'info.': 0.000266910497774865, 'pseudoscience': 0.000266910497774865, 'reassurance': 0.000266910497774865, 'osman.': 0.000266910497774865, 'ongoing': 0.000266910497774865, 'https://t.co/7xwzljalcl': 0.000266910497774865, 'playbook.': 0.000266910497774865, 'word': 0.000266910497774865, '“false”': 0.000266910497774865, 'purple': 0.000266910497774865, 'letters': 0.000266910497774865, 'post': 0.000266910497774865, 'accident,': 0.000266910497774865, 'hoping': 0.000266910497774865, 'standard': 0.000266910497774865, 'deviation': 0.000266910497774865, 'ways': 0.000266910497774865, 'hurts': 0.000266910497774865, 'https://t.co/rcpwfvyxmt': 0.000266910497774865, 'shout': 0.000266910497774865, '@gavinnewsom': 0.000266910497774865, '@nygovcuomo!': 0.000266910497774865, 'like.': 0.000266910497774865, 'kicking': 0.000266910497774865, 'empathy': 0.000266910497774865, 'respect,': 0.000266910497774865, 'citizens': 0.0007954461369330133, 'changed': 0.000266910497774865, 'mind': 0.000266910497774865, 'hoax!': 0.000266910497774865, 'hop': 0.000266910497774865, '❤️': 0.000266910497774865, 'djt': 0.000266910497774865, '🇺🇸': 0.0013239817760911617, 'comment': 0.0005311783173539391, '@': 0.0005311783173539391, 'bookmark/come': 0.000266910497774865, '@vanurse1212': 0.000266910497774865, '#coronaviruspandemic': 0.000266910497774865, 'https://t.co/neazarxgzr': 0.000266910497774865, 'hidden': 0.000266910497774865, 'hatred': 0.0005311783173539391, 'utter': 0.000266910497774865, 'disgust': 0.000266910497774865, 'nigerian': 0.000266910497774865, 'ruling': 0.000266910497774865, 'class.': 0.000266910497774865, \"i'll\": 0.000266910497774865, 'sympathy': 0.000266910497774865, 'now,': 0.000266910497774865, 'nobody': 0.000266910497774865, 'deserves': 0.000266910497774865, 'thorough': 0.000266910497774865, 'job.': 0.000266910497774865, '😑': 0.000266910497774865, '“leaders”': 0.000266910497774865, 'believing': 0.000266910497774865, 'playing': 0.0005311783173539391, 'patience': 0.000266910497774865, 'wearing': 0.000266910497774865, 'thin.': 0.000266910497774865, '@speakerpelosi': 0.000266910497774865, '@senatedems': 0.000266910497774865, '#chinesevirus': 0.000266910497774865, 'arrest': 0.000266910497774865, 'him!!!': 0.000266910497774865, 'platform.': 0.000266910497774865, 'you?': 0.000266910497774865, 'advice⚠️': 0.000266910497774865, 'https://t.co/xssao52smu': 0.000266910497774865, '.@nationalnurses': 0.000266910497774865, 'deborah': 0.000266910497774865, 'burger': 0.000266910497774865, 'reads': 0.000266910497774865, 'statement': 0.0007954461369330133, '#nurses': 0.000266910497774865, 'northern': 0.000266910497774865, 'california': 0.000266910497774865, 'kaiser': 0.000266910497774865, 'facility.': 0.000266910497774865, '➡️': 0.000266910497774865, 'https://t.co/yjtavaxtrx': 0.000266910497774865, '@worksafeca': 0.000266910497774865, 'https://t.co/psz1ghcb2k': 0.000266910497774865, 'traveling🙄': 0.000266910497774865, 'hiv': 0.000266910497774865, 'fuckin': 0.000266910497774865, 'raw😒🤔': 0.000266910497774865, 'https://t.co/vg1bgmu3ai': 0.000266910497774865, '😍😍': 0.000266910497774865, 'people’s': 0.000266910497774865, 'covered': 0.000266910497774865, 'building': 0.000266910497774865, 'a...tennis': 0.000266910497774865, 'pavilion': 0.000266910497774865, 'house?': 0.000266910497774865, 'f': 0.000266910497774865, 'chat': 0.000266910497774865, 'totalsportek': 0.000266910497774865, 'nans': 0.000266910497774865, 'funeral': 0.000266910497774865, 'ffs': 0.000266910497774865, 'this:': 0.000266910497774865, 'hisham': 0.000266910497774865, 'hamdan,': 0.000266910497774865, '26.': 0.000266910497774865, 'eye-opening.': 0.000266910497774865, 'https://t.co/cqusuwobeu': 0.000266910497774865, 'exists': 0.000266910497774865, 'background': 0.000266910497774865, 'biology': 0.000266910497774865, 'neurology': 0.000266910497774865, 'obsessed': 0.000266910497774865, 'catching': 0.000266910497774865, 'parabolic': 0.000266910497774865, 'trends': 0.000266910497774865, 'early,': 0.000266910497774865, 'data': 0.000266910497774865, 'cite': 0.000266910497774865, 'credits': 0.000266910497774865, 'wish': 0.000266910497774865, 'express': 0.000266910497774865, 'closeness': 0.000266910497774865, 'healthcare': 0.0007954461369330133, 'caring': 0.000266910497774865, 'civil': 0.000266910497774865, 'authorities': 0.000266910497774865, 'involved': 0.000266910497774865, 'assisting': 0.000266910497774865, 'containing': 0.000266910497774865, 'hmmm.': 0.000266910497774865, 'harry': 0.000266910497774865, 'meghan': 0.000266910497774865, 'joked': 0.000266910497774865, '“meghan': 0.000266910497774865, 'innocent': 0.000266910497774865, 'britain”': 0.000266910497774865, 'tracked': 0.000266910497774865, 'johns': 0.000266910497774865, 'hopkins': 0.000266910497774865, \"university's\": 0.000266910497774865, '@jhusystems': 0.000266910497774865, 'https://t.co/z8mbbnbiue': 0.000266910497774865, 'https://t.co/9hreuuf3xz': 0.000266910497774865, '@vp': 0.0005311783173539391, 'pence:': 0.0005311783173539391, 'true?': 0.000266910497774865, 'plan?': 0.000266910497774865, 'also,': 0.0005311783173539391, 'jurisdictions': 0.000266910497774865, 'promised?': 0.000266910497774865, 'washing': 0.000266910497774865, 'hands:': 0.000266910497774865, '[bye': 0.000266910497774865, 'sharona': 0.000266910497774865, 'voice]': 0.000266910497774865, 'rip': 0.000266910497774865, '30': 0.000266910497774865, 'gifted': 0.000266910497774865, \"subs?'\": 0.000266910497774865, 'service': 0.000266910497774865, 'announcement:': 0.000266910497774865, 'tweets': 0.000266910497774865, 'conflict': 0.000266910497774865, 'friends': 0.000266910497774865, 'scariest': 0.000266910497774865, 'jira': 0.000266910497774865, 'ticket': 0.000266910497774865, 'https://t.co/duyhfucq7n': 0.000266910497774865, 'first,': 0.0005311783173539391, 'finest': 0.000266910497774865, 'clip': 0.0005311783173539391, 'you’ll': 0.000266910497774865, 'year.': 0.000266910497774865, '#thursdaythoughts': 0.000266910497774865, '#thursdaymotivation': 0.000266910497774865, 'https://t.co/e8cysw7tht': 0.000266910497774865, 'mad': 0.000266910497774865, 'tbh.': 0.000266910497774865, 'catch': 0.000266910497774865, 'shows': 0.000266910497774865, 'stuff,': 0.000266910497774865, 'read,': 0.000266910497774865, 'write': 0.000266910497774865, 'bunch': 0.0005311783173539391, 'lucky,': 0.000266910497774865, 'set': 0.000266910497774865, 'worth': 0.000266910497774865, 'watching': 0.000266910497774865, '10mins': 0.000266910497774865, 'https://t.co/otnt5cxg8j': 0.000266910497774865, 'normal': 0.000266910497774865, 'vs': 0.000266910497774865, '#coronaviruschallenge': 0.000266910497774865, 'https://t.co/upeakvznne': 0.000266910497774865, 'communal': 0.000266910497774865, 'virus!': 0.000266910497774865, 'temporary.': 0.000266910497774865, 'music': 0.000266910497774865, 'forever🤙': 0.000266910497774865, 'denyin’': 0.000266910497774865, 'approval': 0.000266910497774865, 'considered': 0.000266910497774865, 'attempted': 0.000266910497774865, 'murder.': 0.000266910497774865, 'https://t.co/etzeizz8o7': 0.000266910497774865, 'coronovirus': 0.000266910497774865, 'cancelled!': 0.000266910497774865, '🦠': 0.000266910497774865, 'https://t.co/ei73kqf86v': 0.000266910497774865, 'corinthians': 0.000266910497774865, 'smh': 0.000266910497774865, 'world:': 0.000266910497774865, 'dangerous.': 0.000266910497774865, 'jamaicans:': 0.000266910497774865, 'https://t.co/mhycodvej4': 0.000266910497774865, '“that’s': 0.000266910497774865, 'coffin': 0.000266910497774865, 'see”': 0.000266910497774865, 'https://t.co/fhhr2ktymh': 0.000266910497774865, 'https://t.co/sf3ajqn6vy': 0.000266910497774865, 'friday': 0.000266910497774865, 'motherfuckers,': 0.000266910497774865, 'nut': 0.000266910497774865, 'sack': 0.000266910497774865, 'juice': 0.000266910497774865, 'breathing': 0.000266910497774865, 'mask.....': 0.000266910497774865, 'doh': 0.000266910497774865, 'tiktok!🎼': 0.000266910497774865, 'tiktok': 0.0005311783173539391, 'video!': 0.000266910497774865, '#covidance': 0.000266910497774865, 'challenge!': 0.000266910497774865, \"doh's\": 0.000266910497774865, 'id:dohgovph': 0.000266910497774865, '🤟': 0.000266910497774865, 'https://t.co/ykjod4ronc': 0.000266910497774865, 'bring': 0.000266910497774865, 'hope!': 0.000266910497774865, 'works!': 0.000266910497774865, 'https://t.co/9tot8vehao': 0.000266910497774865, \"'not\": 0.000266910497774865, \"cure'\": 0.000266910497774865, 'tds': 0.000266910497774865, 'crowd.': 0.000266910497774865, 'cult,': 0.000266910497774865, 'family.': 0.000266910497774865, 'team': 0.000266910497774865, 'dynasty': 0.0005311783173539391, 're-elected.': 0.000266910497774865, '#landslide2020': 0.000266910497774865, 'transmission.': 0.000266910497774865, 'bihun': 0.000266910497774865, 'sup': 0.000266910497774865, \"ain't\": 0.000266910497774865, 'perfect': 0.000266910497774865, 'sambal': 0.000266910497774865, 'hitam🤧🤧': 0.000266910497774865, 'question': 0.0005311783173539391, 'today:': 0.000266910497774865, 'seattle': 0.000266910497774865, 'area,': 0.000266910497774865, 'curious': 0.000266910497774865, 'whats': 0.000266910497774865, 'coolest': 0.000266910497774865, \"'16\": 0.000266910497774865, \"tested'\": 0.000266910497774865, 'travel.': 0.000266910497774865, \"'beat\": 0.000266910497774865, \"virus'\": 0.000266910497774865, 'conscious': 0.000266910497774865, 'action.': 0.0005311783173539391, 'dislocate': 0.000266910497774865, 'disrupt': 0.000266910497774865, 'sg': 0.000266910497774865, 'well,': 0.000266910497774865, 'we?': 0.000266910497774865, 'first...': 0.000266910497774865, 'thanks,': 0.000266910497774865, '#michaelbloomberg.': 0.000266910497774865, 'hereâ\\x80\\x99s': 0.0010597139565120875, 'handy': 0.000266910497774865, '(unintentional)': 0.000266910497774865, 'demo': 0.000266910497774865, 'clueless': 0.000266910497774865, 'america:': 0.000266910497774865, 'touch': 0.000266910497774865, 'saliva-soaked': 0.000266910497774865, 'fingers.': 0.000266910497774865, '#minimikebloomberg': 0.000266910497774865, '#droolingbloomberg': 0.000266910497774865, 'folks,': 0.000266910497774865, 'deal,': 0.000266910497774865, 'disabled,': 0.000266910497774865, 'elderly,': 0.000266910497774865, 'chornically-ill,': 0.000266910497774865, 'immunocompromised,\"': 0.000266910497774865, 'implication': 0.000266910497774865, 'expendable.': 0.000266910497774865, 'careful.': 0.000266910497774865, '\"why': 0.000266910497774865, 'virus\"': 0.0005311783173539391, 'reminded': 0.000266910497774865, 'comes': 0.000266910497774865, '#coronaalert': 0.0005311783173539391, 'work!': 0.000266910497774865, 'able': 0.000266910497774865, 'effectively': 0.000266910497774865, 'lets': 0.000266910497774865, 'purpose': 0.000266910497774865, 'slowly,': 0.000266910497774865, 'hindu': 0.000266910497774865, 'traditions': 0.000266910497774865, 'accepted': 0.000266910497774865, 'yoga': 0.000266910497774865, 'in.': 0.000266910497774865, 'dire,': 0.000266910497774865, 'universal': 0.000266910497774865, 'acceptance': 0.000266910497774865, 'terrorism,': 0.000266910497774865, 'polytheism': 0.000266910497774865, 'bigotry': 0.000266910497774865, 'communists.': 0.000266910497774865, 'unscientific': 0.000266910497774865, 'abrahamic': 0.000266910497774865, 'principles': 0.000266910497774865, 'over.<link>': 0.000266910497774865, 'tie': 0.000266910497774865, 'funding': 0.000266910497774865, '#fisa': 0.000266910497774865, 'reauthorization.': 0.000266910497774865, 'reform': 0.000266910497774865, 'fisa': 0.000266910497774865, 'restore': 0.000266910497774865, 'peopleâ\\x80\\x99s': 0.0005311783173539391, 'confidence': 0.000266910497774865, '2016': 0.000266910497774865, 'happens': 0.000266910497774865, 'again.<link>': 0.000266910497774865, 'hiding': 0.000266910497774865, 'people?': 0.000266910497774865, 'wonâ\\x80\\x99t': 0.0005311783173539391, '#coronaoutbreak?': 0.000266910497774865, '@pmoindia': 0.000266910497774865, ',': 0.000266910497774865, 'quit': 0.0005311783173539391, 'wasting': 0.000266910497774865, 'clown': 0.000266910497774865, 'accounts,': 0.000266910497774865, 'facing': 0.000266910497774865, 'attention': 0.000266910497774865, 'challenge.': 0.000266910497774865, 'done..': 0.000266910497774865, '#coronavirusindia': 0.0005311783173539391, 'citizen.do': 0.000266910497774865, 'microbe': 0.000266910497774865, 'scale': 0.000266910497774865, '#coronavirusoutbreak?': 0.000266910497774865, 'apologized': 0.000266910497774865, 'criticism': 0.000266910497774865, 'administrationâ\\x80\\x99s': 0.000266910497774865, 'botched': 0.000266910497774865, 'hoax?': 0.000266910497774865, 'inspiration': 0.000266910497774865, '#india-': 0.000266910497774865, '#shalomð\\x9f\\x87®ð\\x9f\\x87±#namasteð\\x9f\\x87®ð\\x9f\\x87³': 0.000266910497774865, 'true,': 0.000266910497774865, '@statedept': 0.000266910497774865, 'embassy': 0.000266910497774865, 'democrat': 0.000266910497774865, 'running': 0.000266910497774865, 'president,': 0.000266910497774865, 'anywhere': 0.000266910497774865, 'matter.': 0.000266910497774865, 'quarterly': 0.000266910497774865, 'toward': 0.000266910497774865, 'grateful.': 0.000266910497774865, 'advance.': 0.000266910497774865, 'doomed.': 0.000266910497774865, 'https://t.co/pey8cnycot': 0.000266910497774865, '@waltshaub': 0.000266910497774865, 'repost': 0.000266910497774865, 'shares': 0.000266910497774865, 'vital': 0.000266910497774865, 'excellent': 0.0005311783173539391, 'speech': 0.000266910497774865, 'singaporeâ\\x80\\x99s': 0.000266910497774865, 'mr.': 0.000266910497774865, 'gan': 0.000266910497774865, 'kim': 0.000266910497774865, 'yong.': 0.000266910497774865, 'describing': 0.000266910497774865, '#coronavirusupdates': 0.000266910497774865, '#b52questions': 0.000266910497774865, 'rudy': 0.000266910497774865, 'arrest?': 0.000266910497774865, 'rikerâ\\x80\\x99s?': 0.000266910497774865, 'cuccinelli': 0.000266910497774865, 'working?': 0.000266910497774865, 'barr': 0.000266910497774865, 'yet?': 0.000266910497774865, '5.': 0.000266910497774865, 'flynn': 0.000266910497774865, 'sentenced?': 0.000266910497774865, 'trusts': 0.000266910497774865, 'mrs.': 0.000266910497774865, 'miller': 0.000266910497774865, 'messaging': 0.000266910497774865, 'râ\\x80\\x99s': 0.000266910497774865, 'w/their': 0.000266910497774865, 'guy?': 0.000266910497774865, 'fair': 0.000266910497774865, 'whether': 0.000266910497774865, 'gross': 0.000266910497774865, 'trumpâ\\x80\\x99s': 0.000266910497774865, 'stated': 0.000266910497774865, '#coronaoutbreak.': 0.000266910497774865, 'consequences.': 0.000266910497774865, 'back.': 0.000266910497774865, 'noted': 0.000266910497774865, 'â\\x80\\x9chonorary': 0.000266910497774865, 'whiteâ\\x80\\x9d': 0.000266910497774865, 'status': 0.000266910497774865, 'placed': 0.000266910497774865, 'provisional.': 0.000266910497774865, 'obama': 0.000266910497774865, '12,000': 0.000266910497774865, 'swine': 0.000266910497774865, '(and': 0.000266910497774865, \"didn't),\": 0.000266910497774865, 'turn': 0.000266910497774865, 'somehow': 0.000266910497774865, 'pin': 0.000266910497774865, 'trump/pence,': 0.000266910497774865, 'freaking': 0.0005311783173539391, 'discourse': 0.000266910497774865, 'country.': 0.000266910497774865, 'https://t.co/yiue08otpa': 0.000266910497774865, 'liberals': 0.000266910497774865, 'blew': 0.000266910497774865, 'butt': 0.000266910497774865, 'plugs': 0.000266910497774865, '(wait': 0.000266910497774865, 'it...)': 0.000266910497774865, '#wuhancoronavirus,': 0.000266910497774865, 'refresher...': 0.000266910497774865, '#numbskulls': 0.000266910497774865, 'https://t.co/bhd4zdnuti': 0.000266910497774865, 'prioritizes': 0.000266910497774865, 'â\\x80\\x9cconsumer': 0.000266910497774865, 'choiceâ\\x80\\x9d': 0.000266910497774865, 'payer': 0.000266910497774865, 'system,': 0.000266910497774865, 'force': 0.000266910497774865, 'employment,': 0.000266910497774865, 'freedom': 0.000266910497774865, 'precariousness': 0.000266910497774865, 'â¬\\x87ï¸\\x8f': 0.000266910497774865, 'https://t.co/1q6tclefum': 0.000266910497774865, 'nancy': 0.000266910497774865, 'binay': 0.000266910497774865, 'improved': 0.000266910497774865, 'dark': 0.000266910497774865, 'skin': 0.000266910497774865, 'choke': 0.000266910497774865, 'https://t.co/ctfq4iqy8w': 0.000266910497774865, 'exhibit': 0.000266910497774865, 'ð\\x9f\\x98\\xadð\\x9f¥´': 0.000266910497774865, 'https://t.co/auamfixbfy': 0.000266910497774865, 'https://t.co/dkryjwakdh': 0.000266910497774865, 'imma': 0.000266910497774865, 'intervene': 0.000266910497774865, 'near': 0.000266910497774865, 'shop': 0.000266910497774865, 'parcel': 0.000266910497774865, 'delivered': 0.000266910497774865, 'zika,': 0.000266910497774865, 'ebola,': 0.000266910497774865, 'lyme': 0.000266910497774865, 'disease,': 0.000266910497774865, 'german': 0.000266910497774865, 'measles,': 0.000266910497774865, 'spanish': 0.000266910497774865, 'reston': 0.000266910497774865, 'nile': 0.000266910497774865, 'hong': 0.000266910497774865, 'kong': 0.000266910497774865, 'are/were': 0.000266910497774865, 'tho?': 0.000266910497774865, 'https://t.co/w2n6ak7siu': 0.000266910497774865, 'cum-stained': 0.000266910497774865, 'xenophobia:': 0.000266910497774865, '\"chinese': 0.000266910497774865, 'coronavirus\"': 0.000266910497774865, '\"wuhan': 0.000266910497774865, 'shun': 0.000266910497774865, '(stories': 0.000266910497774865, 'person,': 0.000266910497774865, 'tyvm)': 0.000266910497774865, 'https://t.co/qie6vbhhjb': 0.000266910497774865, 'rt.': 0.000266910497774865, 'perspective': 0.000266910497774865, 'https://t.co/p8wguosrth': 0.000266910497774865, 'namjoon': 0.000266910497774865, 'angry': 0.000266910497774865, 'sad': 0.000266910497774865, 'karmy': 0.000266910497774865, 'instructions:': 0.000266910497774865, 'https://t.co/hauaetnjth': 0.000266910497774865, 'older': 0.000266910497774865, 'lgbtq': 0.000266910497774865, 'urge': 0.000266910497774865, 'shrug': 0.000266910497774865, 'infirm': 0.000266910497774865, 'die,': 0.000266910497774865, 'watched': 0.000266910497774865, 'callousness': 0.000266910497774865, 'niggaz': 0.000266910497774865, 'canâ\\x80\\x99t': 0.000266910497774865, 'flint,': 0.000266910497774865, 'michigan': 0.000266910497774865, 'plumber.': 0.000266910497774865, 'suicide': 0.000266910497774865, 'minus': 0.000266910497774865, 'haram': 0.000266910497774865, 'part': 0.000266910497774865, 'https://t.co/v56eeobasw': 0.000266910497774865, 'moment': 0.000266910497774865, 'fab': 0.000266910497774865, 'seem': 0.000266910497774865, 'scary': 0.000266910497774865, 'place.': 0.000266910497774865, 'https://t.co/inykd5tctl': 0.000266910497774865}\n"
     ]
    }
   ],
   "source": [
    "# Calculate tw_yes\n",
    "yes_tweets = df.loc[df['q1_label'] == 'yes'].text\n",
    "yes_dictionnary = {}\n",
    "tw_yes = 0\n",
    "for tweet in yes_tweets:\n",
    "  wit = tweet.split()\n",
    "  for w in wit:\n",
    "    tw_yes += 1\n",
    "    if w in yes_dictionnary:\n",
    "      yes_dictionnary[w] += 1\n",
    "    else:\n",
    "      yes_dictionnary[w] = 1\n",
    "\n",
    "no_tweets = df.loc[df['q1_label'] == 'no'].text\n",
    "no_dictionnary = {}\n",
    "tw_no = 0\n",
    "for tweet in no_tweets:\n",
    "  wit = tweet.split()\n",
    "  for w in wit:\n",
    "    tw_no += 1\n",
    "    if w in no_dictionnary:\n",
    "      no_dictionnary[w] += 1\n",
    "    else:\n",
    "      no_dictionnary[w] = 1\n",
    "\n",
    "yes_prob = {}\n",
    "no_prob = {}\n",
    "for word in ov:\n",
    "    if word in yes_dictionnary:\n",
    "        yes_prob[word] = (yes_dictionnary[word] + 0.01) / (tw_yes + 0.01*len(ov))\n",
    "    else:\n",
    "        no_prob[word] = (no_dictionnary[word] + 0.01) / (tw_no + 0.01*len(ov))\n",
    "\n",
    "\n",
    "print(no_prob)"
   ]
  },
  {
   "cell_type": "code",
   "execution_count": null,
   "metadata": {},
   "outputs": [],
   "source": [
    "# For every word in yes, Calculate worth"
   ]
  },
  {
   "cell_type": "markdown",
   "metadata": {},
   "source": [
    "## 6. Classify a new tweet"
   ]
  },
  {
   "cell_type": "markdown",
   "metadata": {},
   "source": [
    "For both classes, **yes** and **no**, calculate the score:\n",
    "\n",
    "score(yes) = log(P(yes)) + ∑ log(P(w<sub>i</sub> | yes))\n",
    "\n",
    "score(no) = log(P(no)) + ∑ log(P(w<sub>i</sub> | no))\n",
    "\n",
    "and classify the tweet according to the higher score."
   ]
  },
  {
   "cell_type": "code",
   "execution_count": 104,
   "metadata": {},
   "outputs": [
    {
     "name": "stdout",
     "output_type": "stream",
     "text": [
      "-3.077490069928598 Yes\n"
     ]
    }
   ],
   "source": [
    "def score_yes(tweet):\n",
    "    tweet = tweet.lower()\n",
    "    words = tweet.split()\n",
    "    score = math.log10(p_yes)\n",
    "    for word in words:\n",
    "        if word in yes_prob:\n",
    "            score += math.log10(yes_prob[word])\n",
    "    return score\n",
    "\n",
    "def score_no(tweet):\n",
    "    tweet = tweet.lower()\n",
    "    words = tweet.split()\n",
    "    score = math.log10(p_no)\n",
    "    for word in words:\n",
    "        if word in no_prob:\n",
    "            score += math.log10(no_prob[word])\n",
    "    return score\n",
    "\n",
    "def classify(tweet):\n",
    "    yes, no = score_yes(tweet), score_no(tweet)\n",
    "    return (yes, \"Yes\") if yes > no else (no, \"No\")\n",
    "    \n",
    "score, classification = classify(\"@realdonaldtrump hamburgers\")\n",
    "print(\"{} {}\".format(score, classification))"
   ]
  },
  {
   "cell_type": "markdown",
   "metadata": {},
   "source": [
    "## 7. Calculate performance metrics\n",
    "\n",
    "- accuracy (acc)\n",
    "- per-class precision (yes-P, no-P)\n",
    "- per-class recall (yes-R, no-R)\n",
    "- per-class F1-measure (yes-F, no-F)"
   ]
  },
  {
   "cell_type": "code",
   "execution_count": null,
   "metadata": {},
   "outputs": [],
   "source": []
  }
 ],
 "metadata": {
  "kernelspec": {
   "display_name": "Python 3",
   "language": "python",
   "name": "python3"
  },
  "language_info": {
   "codemirror_mode": {
    "name": "ipython",
    "version": 3
   },
   "file_extension": ".py",
   "mimetype": "text/x-python",
   "name": "python",
   "nbconvert_exporter": "python",
   "pygments_lexer": "ipython3",
   "version": "3.8.3"
  }
 },
 "nbformat": 4,
 "nbformat_minor": 4
}
